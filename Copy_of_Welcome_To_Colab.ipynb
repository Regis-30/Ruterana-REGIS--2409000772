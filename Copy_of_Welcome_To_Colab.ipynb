{
  "cells": [
    {
      "cell_type": "markdown",
      "metadata": {
        "id": "view-in-github",
        "colab_type": "text"
      },
      "source": [
        "<a href=\"https://colab.research.google.com/github/Regis-30/Ruterana-REGIS--2409000772/blob/main/Copy_of_Welcome_To_Colab.ipynb\" target=\"_parent\"><img src=\"https://colab.research.google.com/assets/colab-badge.svg\" alt=\"Open In Colab\"/></a>"
      ]
    },
    {
      "cell_type": "code",
      "source": [
        "!pip install cryptography"
      ],
      "metadata": {
        "colab": {
          "base_uri": "https://localhost:8080/"
        },
        "id": "tTZ5AcaJBINK",
        "outputId": "23dafc84-9c6a-417b-9ad6-c96bc0ca1bb6"
      },
      "execution_count": null,
      "outputs": [
        {
          "output_type": "stream",
          "name": "stdout",
          "text": [
            "Requirement already satisfied: cryptography in /usr/local/lib/python3.11/dist-packages (43.0.3)\n",
            "Requirement already satisfied: cffi>=1.12 in /usr/local/lib/python3.11/dist-packages (from cryptography) (1.17.1)\n",
            "Requirement already satisfied: pycparser in /usr/local/lib/python3.11/dist-packages (from cffi>=1.12->cryptography) (2.22)\n"
          ]
        }
      ]
    },
    {
      "source": [
        "# prompt: VRun checks periodically (e.g., every 5 minutes). Send an email or Slack alert if the website goes down\n",
        "# Check multiple URLS at once (monitoring multiple services)\n",
        "# Log failures for analysis (e.g., using a database or log file). Code:\n",
        "# import requests\n",
        "# def check_website(url):\n",
        "# try:\n",
        "# timeout=5)\n",
        "# (Status: (response.status_code})\"\n",
        "# except requests.exceptions.Reques tException:\n",
        "# unreachable.\"\n",
        "# printlahaak\n",
        "# Search\n",
        "# BY following a given code create a similar code that can perform all of the mentioned tasks above\n",
        "\n",
        "import requests\n",
        "import time\n",
        "import smtplib\n",
        "from email.mime.text import MIMEText\n",
        "import logging\n",
        "import os\n",
        "\n",
        "# --- Configuration ---\n",
        "# URLs to monitor\n",
        "urls_to_monitor = {\n",
        "    \"https://www.google.com\": \"Google\",\n",
        "    \"https://www.example.com\": \"Example Site\",\n",
        "    # Add more URLs here...\n",
        "}\n",
        "\n",
        "# Email settings (optional, uncomment and configure if needed)\n",
        "# sender_email = \"your_email@gmail.com\"\n",
        "# sender_password = \"your_email_password\"  # Consider using environment variables\n",
        "# receiver_email = \"recipient_email@example.com\"\n",
        "\n",
        "# Logging configuration\n",
        "log_file = \"website_monitoring_log.txt\"  # Log to a file\n",
        "logging.basicConfig(filename=log_file, level=logging.INFO,\n",
        "                    format='%(asctime)s - %(levelname)s - %(message)s')\n",
        "\n",
        "\n",
        "def check_website(url, site_name):\n",
        "    try:\n",
        "        response = requests.get(url, timeout=5)\n",
        "        response.raise_for_status()  # Raise HTTPError for bad responses (4xx or 5xx)\n",
        "        logging.info(f\"{site_name} - {url} - Status: {response.status_code} (OK)\")\n",
        "        return True\n",
        "    except requests.exceptions.RequestException as e:\n",
        "        logging.error(f\"{site_name} - {url} - Error: {e}\")\n",
        "        # Send alert (email or Slack)\n",
        "        # send_alert(url, str(e))\n",
        "        return False\n",
        "\n",
        "# Placeholder for Alerting method - adapt for email or Slack\n",
        "def send_alert(url, error_message):\n",
        "    # TODO: Implement email or Slack notification\n",
        "    print(f\"ALERT: {url} is down. Error: {error_message}\")\n",
        "\n",
        "\n",
        "def main():\n",
        "    while True:\n",
        "        for url, site_name in urls_to_monitor.items():\n",
        "            check_website(url, site_name)\n",
        "        time.sleep(300)  # Check every 5 minutes (300 seconds)\n",
        "\n",
        "if __name__ == \"__main__\":\n",
        "    main()\n"
      ],
      "cell_type": "code",
      "metadata": {
        "id": "g_tDrhrDGbCs"
      },
      "execution_count": null,
      "outputs": []
    },
    {
      "cell_type": "code",
      "source": [],
      "metadata": {
        "id": "YXDwW14aGT7W"
      },
      "execution_count": null,
      "outputs": []
    }
  ],
  "metadata": {
    "colab": {
      "toc_visible": true,
      "provenance": [],
      "include_colab_link": true
    },
    "kernelspec": {
      "display_name": "Python 3",
      "name": "python3"
    }
  },
  "nbformat": 4,
  "nbformat_minor": 0
}